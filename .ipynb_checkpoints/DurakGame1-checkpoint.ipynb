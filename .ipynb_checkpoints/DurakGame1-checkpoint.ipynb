{
 "cells": [
  {
   "cell_type": "markdown",
   "metadata": {},
   "source": [
    "# Building a Durak Master\n",
    "\n",
    "## Step by step creating a Python implementation of the classic Russian card game.\n",
    "## Groundwork - setting the stage and dealing the cards\n",
    "\n",
    "## Part 1 of 4\n",
    "\n",
    "In the first two posts I will detail the first steps I took to create this game - first purely on the command line and with no AI. The third post will cover machine learning that will build out the opponents, using the [Information Set Monte Carlo Tree Search](http://www.aaai.org/ocs/index.php/AIIDE/AIIDE13/paper/viewFile/7369/7595), and the third will focus entirely on bringing a GUI to the game.\n",
    "\n",
    "### A brief lesson on Durak\n",
    "To paraphrase from the great introduction at [pagat.com](https://www.pagat.com/beating/podkidnoy_durak.html):\n",
    "\n",
    "\"Durak is undoubtedly the most popular card game in Russia. It would hardly be an exaggeration to say that every Russian who plays cards knows this game. \"Durak\" means fool, the fool in this game being the loser - the player who is left with cards after everyone else has run out. The game described on this page is properly called \"Podkidnoy Durak\", which means \"fool with throwing in\". This name refers to the fact that after an attack is begun, it can be continued by \"throwing in\" further cards whose ranks match those already played. It is probably the best-known form of Durak in Russia. The same game is played in Poland under the name Dureń (fool) and in several other East European countries.\"\n",
    "\n",
    "#### Game Objective\n",
    "\n",
    "This game has no winner - only a loser. At the start, each player is dealt six cards, which are played in a series of bouts of attack and defence. When a player's hand is reduced to fewer than six cards it is replenished from the talon of undealt cards. After the talon is exhausted, there is no more replenishment and the aim is to get rid of all the cards from your hand. The last player left holding cards is the loser.\n",
    "\n",
    "#### Most important rules\n",
    "\n",
    "Rather than go in-depth on the rules (please do check out the above link - it is a great game worth learning!), I will quickly highlight the most relevant points for this post:\n",
    "\n",
    " * The deck is made up of 36 cards - all four suits, and 6-Ace\n",
    " * Each player is dealt 6 cards - at the end of each round their hand will be brought up to 6 if it has less\n",
    " * A trump card is drawn first and laid face-up on the table. The player with the lowest trump in their hand plays first and play proceeds clockwise.\n",
    " * On their turn a player 'attacks' the player to their left with a single card. The defender must then respond with:\n",
    " 1. a higher card from the same suit \n",
    " 2. a trump card (if the attacking card is not trump)\n",
    "\n",
    "If the defender beats the first attack card, the attacker can continue the attack by playing another card. If the defender beats this second attack card too, the attack can be continued with further cards, subject to the following conditions: \n",
    "\n",
    " 1. each new attack card must be of the same rank as some card already played during the current bout - either an attack card or a card played by the defender;\n",
    " 2. the total number of cards played by the attackers during a bout must never exceed six;\n",
    " 3. if the defender had fewer than six cards before the bout, the number of cards played by the attackers must not be more than the number of cards in the defender's hand.\n",
    " 4. The attack cards are placed separately face up in front of the defender, and each card played by the defender is placed face up on top of the card it is beating, slightly offset so that the values of all cards can be seen.\n",
    "\n",
    "The defender succeeds in beating off the whole attack if either: \n",
    "1. the defender has beaten all the attack cards played so far and none of the defender's opponents is able and willing to continue the attack;\n",
    "2. the defender succeeds in beating six attacking cards;\n",
    "3. the defender (having begun the defence holding fewer than six cards) has no cards left in hand, all the defender's cards having been used to beat attack cards.\n",
    "\n",
    "When an attack is beaten off, all the cards played during the bout (the attacking cards and the defender's cards) are thrown face down on a discard heap and are not used again during the play of this deal. The defender becomes the attacker for the next bout, and the player to the new attacker's left is the new defender.\n",
    "\n",
    "If at any stage, the defender is unable to or does not wish to beat one of the attack cards, the defender must pick up all the cards played during the bout - both the attacking cards and the cards used to beat them. All these cards become part of the defender's hand. In addition, the players who were entitled to take part in the attack can give to the defender (face up) any further cards which they could legally have played if the attack had continued. These extra cards must also be added to the defender's hand. The bout is then over. Since the attack has succeeded, the defender does not get a turn to attack. The next attacker is the player to the left of the unsuccessful defender, and the new defender is the player to the left of the new attacker as usual.\n",
    "\n",
    "### Win conditions\n",
    "There is no individual winner in Durak - instead the last player with cards is the loser (and subject to much ridicule!). After the talon is exhausted and no more cards can be drawn, each player works to empty their hand.\n",
    "\n",
    "## On to the code!\n",
    "I start of with creating the building blocks of the game. A simple PlayingCard class:"
   ]
  },
  {
   "cell_type": "code",
   "execution_count": 11,
   "metadata": {
    "collapsed": true
   },
   "outputs": [],
   "source": [
    "# Start of main game module - durak.py\n",
    "class PlayingCard:\n",
    "    def __init__(self, suit, value):    \n",
    "        self.suit = suit\n",
    "        self.value = value\n",
    "\n",
    "    def card_name(self):\n",
    "        return str(self.value) + self.suit\n",
    "    \n",
    "# Constants set in main.py\n",
    "HAND_SIZE = 6\n",
    "SUITS = ['D', 'C', 'H', 'S']"
   ]
  },
  {
   "cell_type": "markdown",
   "metadata": {},
   "source": [
    "You will notice as this is built that I have defined card values as 6-14, 14 being the Ace. I plan on leaving this as is for the CLI implementation, as mapping the values to the cards in the GUI [(part 3)](LINK TO PART 3) will take care of any player confusion.\n",
    "\n",
    "For modularity I have set SUITS and HAND_SIZE as constants in main.py. Next I create the shuffled \"talon\" or deck to draw from as a list of PlayingCard objects."
   ]
  },
  {
   "cell_type": "code",
   "execution_count": 12,
   "metadata": {
    "collapsed": true
   },
   "outputs": [],
   "source": [
    "# Main game module - durak.py\n",
    "def card_gen(suits):\n",
    "    \"\"\"Takes a list of suits and returns a shuffled 36 card deck (values 6 - Ace(14))\"\"\"\n",
    "    from random import shuffle\n",
    "    deck = []\n",
    "    for suit in suits:\n",
    "        for value in range(6, 15):\n",
    "            deck.append(PlayingCard(suit, value))\n",
    "    shuffle(deck)\n",
    "    return deck\n",
    "\n",
    "# Generate talon - main.py\n",
    "talon = card_gen(SUITS)"
   ]
  },
  {
   "cell_type": "markdown",
   "metadata": {},
   "source": [
    "First player interaction and input comes in the form of a greeting and a desired number of players:"
   ]
  },
  {
   "cell_type": "code",
   "execution_count": 13,
   "metadata": {
    "collapsed": false
   },
   "outputs": [
    {
     "name": "stdout",
     "output_type": "stream",
     "text": [
      "Welcome to Durak!\n",
      "How many players? (2, 3, or 4) 2\n"
     ]
    }
   ],
   "source": [
    "# durak.py\n",
    "def number_of_players():\n",
    "    \"\"\"Take player input to create the number of players in the game - 2, 3, 4\"\"\"\n",
    "    player_count = int(input(\"How many players? (2, 3, or 4) \"))\n",
    "    acceptable = [2, 3, 4]\n",
    "    while player_count not in acceptable:\n",
    "        player_count = int(input(\"{} is not a valid answer. Please enter 2, 3, or 4. \".format(player_count)))\n",
    "    return player_count\n",
    "\n",
    "# main.py\n",
    "\"\"\"Starting a game of Durak\"\"\"\n",
    "print(\"Welcome to Durak!\")\n",
    "player_count = number_of_players()"
   ]
  },
  {
   "cell_type": "markdown",
   "metadata": {},
   "source": [
    "The next few functions assign a trump card (pulled from the front of the talon list), create a dictionary with an empty list to hold the hand of each player (2, 3, or 4), deal the initial hands, and check to see who has the lowest trump card."
   ]
  },
  {
   "cell_type": "code",
   "execution_count": 20,
   "metadata": {
    "collapsed": false
   },
   "outputs": [
    {
     "name": "stdout",
     "output_type": "stream",
     "text": [
      "Trump card is 8H\n",
      "8H\n",
      "8C\n",
      "12H\n",
      "6H\n",
      "14S\n",
      "Total # of cards in talon: 36\n",
      "Dealing...\n",
      "---------------------------------\n",
      "\n",
      "Player 1 has the lowest trump - 7H - and will play first.\n",
      "---------------------------------\n",
      "\n"
     ]
    }
   ],
   "source": [
    "# durak.py\n",
    "def assign_trump(talon):\n",
    "    \"\"\"sets global trump variable - use at the start of each game\"\"\"\n",
    "    trump = talon[0]\n",
    "    print(\"Trump card is {}\".format(trump.card_name()))\n",
    "    return trump\n",
    "\n",
    "\n",
    "def create_hands(players):\n",
    "    \"\"\"Creates empty list for each player's hand\"\"\"\n",
    "    hands = {}\n",
    "    i = players\n",
    "    while i > 0:\n",
    "        hands[i] = []\n",
    "        i -= 1\n",
    "    return hands\n",
    "\n",
    "\n",
    "def dealer(hands, talon, hand_size):\n",
    "    \"\"\"Brings each hand's card count up to the HAND_SIZE\"\"\"\n",
    "    print(\"Dealing...\")\n",
    "    print(\"---------------------------------\\n\")\n",
    "    for k, v in hands.items():\n",
    "        while len(v) < hand_size and len(talon) > 0:\n",
    "            v.append(talon.pop())\n",
    "            \n",
    "            \n",
    "def first_to_play(hands, trump):\n",
    "    \"\"\"Checks each hand for the lowest trump card and returns who goes first.\"\"\"\n",
    "    lowest = 15\n",
    "    first_player = 1\n",
    "    low_card = 0\n",
    "    for player, hand in hands.items():\n",
    "        for card in hand:\n",
    "            if card.suit == trump.suit and card.value < lowest:\n",
    "                lowest = card.value\n",
    "                first_player = player\n",
    "                low_card = card.card_name()\n",
    "    print(\"Player {} has the lowest trump - {} - and will play first.\".format(first_player, low_card))\n",
    "    print(\"---------------------------------\\n\")\n",
    "    return first_player\n",
    "\n",
    "# main.py\n",
    "\"\"\"Create deck, shuffle into talon, create hands\"\"\"\n",
    "talon = card_gen(SUITS)\n",
    "trump = assign_trump(talon)\n",
    "hands = create_hands(player_count)\n",
    "# quick print of the talon to confirm its contents\n",
    "for card in talon[0:5]:\n",
    "    print(card.card_name())\n",
    "print(\"Total # of cards in talon: {}\".format(len(talon)))\n",
    "\n",
    "\"\"\"First deal, find out who goes first\"\"\"\n",
    "dealer(hands, talon, HAND_SIZE)\n",
    "first_player = first_to_play(hands, trump)"
   ]
  },
  {
   "cell_type": "markdown",
   "metadata": {},
   "source": [
    "And now for the final touch of the setup process. The following print functions will end up returning the value they print, but for the current CLI interface they print."
   ]
  },
  {
   "cell_type": "code",
   "execution_count": 15,
   "metadata": {
    "collapsed": true
   },
   "outputs": [],
   "source": [
    "# durak.py\n",
    "def print_hand(hand, player):\n",
    "    \"\"\"Takes single list of PlayingCard objects and the player number, prints hand in string format\n",
    "        Also prints remaining cards in talon and trump card to remind players.\n",
    "    \"\"\"\n",
    "    hand_string = \"Player {} current hand: \".format(player)\n",
    "    for card in hand:\n",
    "        hand_string += \"{}  \".format(card.card_name())\n",
    "    print(hand_string)\n",
    "\n",
    "\n",
    "def print_seats(players, hands, trump, talon):\n",
    "    \"\"\"Generates a simple display to keep the player updated. Varies based on number of players.\n",
    "        Shows total card count for each player, and whose turn it is.\"\"\"\n",
    "    if players == 2:\n",
    "        print(\"     Player 2 ({} cards)    \".format(len(hands[2])))\n",
    "        print(\"         |        \")\n",
    "        print(\"         |        \")\n",
    "        print(\"         |        \")\n",
    "        print(\"         |        \")\n",
    "        print(\"     Player 1 ({} cards)    \\n\".format(len(hands[1])))\n",
    "    elif players == 3:\n",
    "        print(\"     Player 3 ({} cards)    \".format(len(hands[3])))\n",
    "        print(\"      /             |   \")\n",
    "        print(\"     /              |   \")\n",
    "        print(\"Player 2 ({} cards)  |\".format(len(hands[2])))\n",
    "        print(\"     \\              |   \")\n",
    "        print(\"      \\             |   \")\n",
    "        print(\"     Player 1 ({} cards)    \\n\".format(len(hands[1])))\n",
    "    elif players == 4:\n",
    "        print(\"      Player 3 ({} cards)    \".format(len(hands[3])))\n",
    "        print(\"      /                 \\ \")\n",
    "        print(\"     /                   \\ \")\n",
    "        print(\"Player 2 ({} cards)    Player 4 ({} cards)\".format(len(hands[2]), len(hands[4])))\n",
    "        print(\"     \\                   /\")\n",
    "        print(\"      \\                 / \")\n",
    "        print(\"      Player 1 ({} cards)    \\n\".format(len(hands[1])))\n",
    "    print_state(trump, talon)\n",
    "\n",
    "\n",
    "def print_state(trump, talon):\n",
    "    \"\"\"Prints important game state information\"\"\"\n",
    "    print(\"Remaining cards: {}\".format(len(talon)))\n",
    "    print(\"Trump card: {}\".format(trump.card_name()))\n",
    "    print(\"---------------------------------\\n\")"
   ]
  },
  {
   "cell_type": "markdown",
   "metadata": {},
   "source": [
    "Let's see if it all works so far (remember we set the player_count to 2 earlier on:"
   ]
  },
  {
   "cell_type": "code",
   "execution_count": 16,
   "metadata": {
    "collapsed": false
   },
   "outputs": [
    {
     "name": "stdout",
     "output_type": "stream",
     "text": [
      "     Player 2 (6 cards)    \n",
      "         |        \n",
      "         |        \n",
      "         |        \n",
      "         |        \n",
      "     Player 1 (6 cards)    \n",
      "\n",
      "Remaining cards: 24\n",
      "Trump card: 8C\n",
      "---------------------------------\n",
      "\n",
      "Player 1 current hand: 12S  6S  9C  11D  7S  10S  \n",
      "Player 2 current hand: 7H  6H  6D  12D  10D  13D  \n"
     ]
    }
   ],
   "source": [
    "print_seats(player_count, hands, trump, talon)\n",
    "for player, hand in hands.items():\n",
    "    print_hand(hand, player)"
   ]
  },
  {
   "cell_type": "markdown",
   "metadata": {},
   "source": [
    "Looking good! Next up is to build the game flow - attacking, defending, and not losing!"
   ]
  }
 ],
 "metadata": {
  "anaconda-cloud": {},
  "kernelspec": {
   "display_name": "Python [conda root]",
   "language": "python",
   "name": "conda-root-py"
  },
  "language_info": {
   "codemirror_mode": {
    "name": "ipython",
    "version": 3
   },
   "file_extension": ".py",
   "mimetype": "text/x-python",
   "name": "python",
   "nbconvert_exporter": "python",
   "pygments_lexer": "ipython3",
   "version": "3.5.2"
  }
 },
 "nbformat": 4,
 "nbformat_minor": 1
}
