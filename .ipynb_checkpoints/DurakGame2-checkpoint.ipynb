{
 "cells": [
  {
   "cell_type": "markdown",
   "metadata": {},
   "source": [
    "# Building a Durak Master\n",
    "\n",
    "## Step by step creating a Python implementation of the classic Russian card game.\n",
    "## Game events - attacking and defending (and not losing!)\n",
    "\n",
    "## Part 2 of 4\n",
    "\n",
    "### Turn logic - attack\n",
    "- Start the turn with first_player\n",
    "- Take player input - what would you like to start the attack with?\n",
    "- Notify of attack\n",
    "- Remove card from player hand\n",
    "- Add card to \"live area\" attack side\n",
    "- Take defending player input - restrict to same suit, higher card, or trump\n",
    "- IF defense successful, add card to \"live area\" attack side\n",
    "    - remove card from hand\n",
    "- IF defense successful, prompt attacker to continue or quit\n",
    "    - restrict to existing numbers in live area\n",
    "- IF defense fails, \"live area\" cards go to defender\n",
    "    - SKIP DEFENDER TURN\n",
    "- IF attacker quits, \"live area\" cards go to discard\n",
    "    - DEFENDER becomes active player\n",
    "\n",
    "TODO - sort hand!"
   ]
  }
 ],
 "metadata": {
  "anaconda-cloud": {},
  "kernelspec": {
   "display_name": "Python [conda root]",
   "language": "python",
   "name": "conda-root-py"
  },
  "language_info": {
   "codemirror_mode": {
    "name": "ipython",
    "version": 3
   },
   "file_extension": ".py",
   "mimetype": "text/x-python",
   "name": "python",
   "nbconvert_exporter": "python",
   "pygments_lexer": "ipython3",
   "version": "3.5.2"
  }
 },
 "nbformat": 4,
 "nbformat_minor": 1
}
