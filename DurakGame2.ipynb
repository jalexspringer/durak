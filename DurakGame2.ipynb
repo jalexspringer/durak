{
 "cells": [
  {
   "cell_type": "markdown",
   "metadata": {},
   "source": [
    "# Building a Durak Master\n",
    "\n",
    "## Step by step creating a Python implementation of the classic Russian card game.\n",
    "## Game events - attacking and defending (and not losing!)\n",
    "\n",
    "## Part 2 of 4\n",
    "\n",
    "In these first two posts I detail the first steps I took to create this game - first purely on the command line and with no AI. The third post will cover machine learning that will build out the opponents, using the Information Set Monte Carlo Tree Search, and the third will focus entirely on bringing a GUI to the game.\n",
    "\n",
    "This post is part tutorial, but mostly it is my first walk-through of constructing a complete piece of software from scratch. I am happy to hear feedback! Especially feedback around making this code more Pythonic. You can find the full files created in this post (durak.py, game.py, and main.py) on github.com.\n",
    "\n",
    "Created in Jupyter Notebook - all code is commented to show what went into the main.py game file and what goes into durak.py or game.py.\n",
    "\n",
    "This post builds directly upon [Part 1](jalexspringer.github.io/durakpt1). Please check it out first! All files can be found in the [github repo](github.com/jalexspringer/durak). \n",
    "\n",
    "### A note on organization\n",
    "I have set aside three modules for the code:\n",
    "- [main.py](github.com/jalexspringer/durak/main.py) - the game itself. contains some logic checking for win conditions as well as instantiates the objects that make up the game (hands, talon, battlefield, discard, and trump card).\n",
    "- [durak.py](github.com/jalexspringer/durak/durak.py) - the functions to set up the game (create deck, assign trump, first to play, etc.) and the PlayingCard class.\n",
    "- [game.py](github.com/jalexspringer/durak/game.py) - primary game loop functions. This is where most of the post today is focused. \n",
    "\n",
    "### ```main_game_loop()```"
   ]
  },
  {
   "cell_type": "code",
   "execution_count": null,
   "metadata": {
    "collapsed": true
   },
   "outputs": [],
   "source": [
    "def main_game_loop(player_count, hands, trump, talon, attacker, defender, battlefield, discard):\n",
    "    # New turn print of game state\n",
    "    print_seats(player_count, hands, trump, talon, discard)\n",
    "    first_attack_hand_string = print_hand(hands[attacker], attacker)\n",
    "    played = ''\n",
    "    # First attack\n",
    "    if len(hands[defender]) > 0 and len(hands[attacker]) > 0:\n",
    "        played, hands[attacker] = play_card(hands[attacker], attacker, first_attack_hand_string)\n",
    "        battlefield['attack'].append(played)\n",
    "    elif len(hands[attacker]) == 0:\n",
    "        attacker = next_player(attacker, player_count)\n",
    "        defender = next_player(attacker, player_count)\n",
    "        return attacker, defender\n",
    "    elif len(hands[defender]) == 0:\n",
    "        defender = next_player(defender, player_count)\n",
    "        return attacker, defender\n",
    "\n",
    "    # Print state after first attack\n",
    "    print_all(player_count, hands, trump, talon, battlefield, discard)\n",
    "\n",
    "    # Defense/attack loop\n",
    "    return internal_game_loop(player_count, hands, trump, talon, attacker, defender, battlefield, discard, played)"
   ]
  },
  {
   "cell_type": "markdown",
   "metadata": {},
   "source": [
    "\n",
    "Most of the game is spent inside of this loop. The first attack is unique in that there are no restrictions on which card the attacker can select (other than that it must be in their hand).\n",
    "\n",
    "The main loop:\n",
    "- Prints the current state of the game. Seats, hand counts, etc. The attacker's hand is processed to a string and passed to the ```play_card()``` function. This function asks the player for their choice and confirms that it is in the hand and returns the card (```valid_play```) and the ```hand``` minus the card."
   ]
  },
  {
   "cell_type": "code",
   "execution_count": null,
   "metadata": {
    "collapsed": true
   },
   "outputs": [],
   "source": [
    "#game.py \n",
    "def play_card(hand, active_player, valid_cards, state='attack'):\n",
    "    \"\"\"Takes a list of cards and user input, returns the card, and the hand minus the card.\n",
    "       Runs until a card that is in the hand is input.\n",
    "       Defaults to the attacker dialogue, set 3rd param to False for defender.\"\"\"\n",
    "    while True:\n",
    "        played = input(\"Player {}, what card would you like to {} with? \".format(active_player, state))\n",
    "        for idx, card in enumerate(hand):\n",
    "            if card.card_name() == played.upper() and played.upper() in valid_cards:\n",
    "                valid_play = hand.pop(idx)\n",
    "                return valid_play, hand\n",
    "        print(\"That card is not an option. Please select a card from your hand and in the list of playable cards.\")"
   ]
  },
  {
   "cell_type": "markdown",
   "metadata": {},
   "source": [
    "- ```main_game_loop()``` increments the ```attacker``` and ```defender``` if either or both do not have any cards left in their hand, and then returns the new ```attacker``` and ```defender``` values. ```next_player()``` cycles through the players based on the ```player_count``` value."
   ]
  },
  {
   "cell_type": "code",
   "execution_count": null,
   "metadata": {
    "collapsed": true
   },
   "outputs": [],
   "source": [
    "#game.py\n",
    "\n",
    "def next_player(active_player, player_count):\n",
    "    \"\"\"Increments active_player to start the next turn\n",
    "        Also used to assign defender value.\"\"\"\n",
    "    if active_player != player_count:\n",
    "        active_player += 1\n",
    "    else:\n",
    "        active_player = 1\n",
    "    return active_player"
   ]
  },
  {
   "cell_type": "markdown",
   "metadata": {},
   "source": [
    "- Assuming that the attacker and defender both have cards and the attacker has chosen their attacking card, we add the card to the ```battlefield```, ```print_all()``` prints the battlefield and the current player (defender's) hand. and then step into the ```internal_game_loop()``` that controls the back and forth between players.\n"
   ]
  },
  {
   "cell_type": "markdown",
   "metadata": {},
   "source": [
    "### ```internal_game_loop()```"
   ]
  },
  {
   "cell_type": "code",
   "execution_count": null,
   "metadata": {
    "collapsed": true
   },
   "outputs": [],
   "source": [
    "#game.py\n",
    "def internal_game_loop(player_count, hands, trump, talon, attacker, defender, battlefield, discard, played, press=True):\n",
    "    while True:\n",
    "        # Show legal cards, offer a chance to defend or take all cards\n",
    "        defending, valid_cards = to_defend(hands[defender], played, trump, defender)  # defend or not to defend\n",
    "        if defending:\n",
    "            played, hands[defender] = play_card(hands[defender], defender, valid_cards, 'defend')\n",
    "            battlefield['defense'].append(played)\n",
    "            print_all(player_count, hands, trump, talon, battlefield, discard)\n",
    "            # Check to see if the defender has just played their last card. If yes - end of round. Move to main to check\n",
    "            # if the talon is empty and defender is the winner.\n",
    "            if len(hands[defender]) == 0:\n",
    "                attacker = next_player(attacker, player_count)\n",
    "                defender = next_player(attacker, player_count)\n",
    "                return attacker, defender\n",
    "\n",
    "            # Show legal cards, offer a chance to attack or pass and end attack\n",
    "            attacking, valid_cards = to_attack(hands[attacker], battlefield, attacker)  # attack\n",
    "            if attacking:\n",
    "                played, hands[attacker] = play_card(hands[attacker], attacker, valid_cards)\n",
    "                battlefield['attack'].append(played)\n",
    "                print_all(player_count, hands, trump, talon, battlefield, discard)\n",
    "            else:  # pass\n",
    "                # If the game has 3 or 4 players, the attack can be continued by the player after the defender\n",
    "                if player_count > 2 and press:\n",
    "                    press_attack(player_count, hands, trump, talon, attacker, defender, battlefield, discard, played)\n",
    "                print(\"PLAYER {} - DISCARDING CARDS - END OF ATTACK\".format(attacker))\n",
    "                for k, v in battlefield.items():\n",
    "                    for card in v:\n",
    "                        discard.append(card)\n",
    "                attacker = next_player(attacker, player_count)\n",
    "                defender = next_player(attacker, player_count)\n",
    "                return attacker, defender\n",
    "        else:  # take all cards\n",
    "            additional_throws = throw_in(battlefield, hands, attacker)\n",
    "            if additional_throws:\n",
    "                for card in additional_throws:\n",
    "                    battlefield['attack'].append(card)\n",
    "            print(\"PLAYER {} - TAKING CARDS AND SKIPPING YO TURN!!\".format(defender))\n",
    "            for k, v in battlefield.items():\n",
    "                for card in v:\n",
    "                    hands[defender].append(card)\n",
    "            for i in range(2):\n",
    "                attacker = next_player(attacker, player_count)\n",
    "                defender = next_player(attacker, player_count)\n",
    "            return attacker, defender"
   ]
  },
  {
   "cell_type": "markdown",
   "metadata": {},
   "source": [
    "There is a lot going on there - let's take it step by step.\n",
    "#### Can/will I defend? - ```to_defend()```\n",
    "1. The defender is first in the internal loop. ```to_defend()``` checks that they have a valid response to the attack by creating a string of ```valid_cards```, prints the available options, and asks if the defender would like to continue the defense or 'take' the cards in the battlefield.\n",
    "2. If there is no valid option, or the defender chooses to 'take', ```False``` is returned.\n",
    "3. If the defender chooses to continue the defense, ```True``` is returned with the string of valid_cards.\n",
    "4. ```to_defend()``` loops until a valid response is given. ('d' or 'take')"
   ]
  },
  {
   "cell_type": "code",
   "execution_count": null,
   "metadata": {
    "collapsed": true
   },
   "outputs": [],
   "source": [
    "# game.py\n",
    "def to_defend(hand, played, trump, defender):\n",
    "    \"\"\"Checks that the defender has a playable card, returns playable card options.\n",
    "        Ask if the defender intends to continue the defense or take the cards\"\"\"\n",
    "    valid_cards = \"\"\n",
    "    for card in hand:\n",
    "        if card.suit == played.suit and card.value > played.value:\n",
    "            valid_cards += card.card_name() + \" \"\n",
    "        elif played.suit == trump.suit and card.suit == trump.suit and card.value > played.value:\n",
    "            valid_cards += card.card_name() + \" \"\n",
    "        elif played.suit != trump.suit and card.suit == trump.suit:\n",
    "            valid_cards += card.card_name() + \" \"\n",
    "    if len(valid_cards) > 0:\n",
    "        while True:\n",
    "            print_hand(hand, defender)\n",
    "            print('Valid card options: {}'.format(valid_cards))\n",
    "            defending = input(\"Type 'd' or 'take' to continue: \")\n",
    "            if defending == 'd':\n",
    "                return True, valid_cards\n",
    "            elif defending == 'take':\n",
    "                return False, valid_cards\n",
    "            else:\n",
    "                print('{} is not an option.'.format(defending))\n",
    "    else:\n",
    "        print('No valid options - taking cards.')\n",
    "        return False, valid_cards"
   ]
  },
  {
   "cell_type": "markdown",
   "metadata": {},
   "source": [
    "#### What card will I defend with?\n",
    "1. The response from ```to_defend()``` is checked and if ```True```, then ```play_card()``` is called once more - this time for the defender's hand.\n",
    "2. The chosen card is added to the ```battlefield``` on the defender's side.\n",
    "3. ```print_all()``` once again prints the game state.\n",
    "4. Quickly check that the defender has not just played their last card. If yes, end the round and return the next attacker and defender.\n",
    "\n",
    "If the response from ```to_defend()``` is ```False```, the attacking player may have the chance to throw in additional cards - ```throw_in``` checks for this and gives the attacker the opportunity to select which of these cards they would like to add.\n",
    "\n"
   ]
  },
  {
   "cell_type": "code",
   "execution_count": null,
   "metadata": {
    "collapsed": true
   },
   "outputs": [],
   "source": [
    "#game.py\n",
    "def throw_in(battlefield, hands, attacker):\n",
    "    \"\"\"Prompts to see if the attacker would like to add the rest of the cards with a matching value.\n",
    "        returns the list of cards.\"\"\"\n",
    "    valid_cards = \"\"\n",
    "    values = []\n",
    "    cards = []\n",
    "    for k, v in battlefield.items():\n",
    "        for card in v:\n",
    "            if card.value not in values:\n",
    "                values.append(card.value)\n",
    "    for idx, card in enumerate(hands[attacker]):\n",
    "        if card.value in values:\n",
    "            valid_cards += card.card_name() + \" \"\n",
    "    while len(valid_cards) > 0:\n",
    "        print('Attacking player - you may throw in the rest of the cards in your hand with matching values.')\n",
    "        print('Valid cards: {}'.format(valid_cards))\n",
    "        response = input(\"THROW IN DOUBLES? (y/n)\")\n",
    "        if response == \"y\":\n",
    "            played, hands[attacker] = play_card(hands[attacker], attacker, valid_cards, 'throw in')\n",
    "            cards.append(played)\n",
    "            valid_cards = valid_cards.replace(played.card_name(), \"\").strip()\n",
    "        else:\n",
    "            break\n",
    "    return cards"
   ]
  },
  {
   "cell_type": "markdown",
   "metadata": {},
   "source": [
    "#### Back to the attack!\n",
    "```to_attack()``` functions much like ```to_defend```, incorporating the rules that govern valid attacking cards. It also checks that there have been 6 or less turns in the round and ends the round otherwise."
   ]
  },
  {
   "cell_type": "code",
   "execution_count": null,
   "metadata": {
    "collapsed": true
   },
   "outputs": [],
   "source": [
    "#game.py\n",
    "def to_attack(hand, battlefield, attacker):\n",
    "    \"\"\"Checks that the attacker has a playable card, returns playable card options.\n",
    "    Ask if the attacker intends to continue the attack or pass\"\"\"\n",
    "    valid_cards = \"\"\n",
    "    values = []\n",
    "    for k, v in battlefield.items():\n",
    "        for card in v:\n",
    "            if card.value not in values:\n",
    "                values.append(card.value)\n",
    "    for card in hand:\n",
    "        if card.value in values:\n",
    "            valid_cards += card.card_name() + \" \"\n",
    "    if len(valid_cards) > 0:\n",
    "        while True:\n",
    "            print_hand(hand, attacker)\n",
    "            print('Valid card options: {}'.format(valid_cards))\n",
    "            attacking = input('Type \"a\" or \"pass\" to continue: ')\n",
    "            if attacking == 'a':\n",
    "                return True, valid_cards\n",
    "            elif attacking == 'pass':\n",
    "                return False, valid_cards\n",
    "    elif len(battlefield['attack']) >= 6:\n",
    "        print('Max rounds (6) completed - discarding cards and ending the turn.')\n",
    "    else:\n",
    "        print('No valid options - discarding cards and ending the turn.')\n",
    "        return False, valid_cards"
   ]
  },
  {
   "cell_type": "markdown",
   "metadata": {},
   "source": [
    "If the attacking player chooses to press the attack:\n",
    "1. ```play_card()``` is called for the attacker.\n",
    "2. The chosen card is added to the attacking side of the battlefield.\n",
    "3. ```print_all()``` displays the current game state.\n",
    "\n",
    "#### For games with 3 or 4 players\n",
    "In a multi-player game, if the attacking player declines to continue the attack, the next player after the defender can choose to take over. ```press_attack()``` asks if the player would like to do so and re-enters the ```internal_game_loop()``` to attack if they respond yes.\n",
    "\n",
    "If the attacking player declines to press the attack:\n",
    "1. The battlefield cards are added to the discard pile.\n",
    "2. ```next_player()``` increments and returns the ```attacker``` and ```defender```.\n"
   ]
  },
  {
   "cell_type": "code",
   "execution_count": null,
   "metadata": {
    "collapsed": true
   },
   "outputs": [],
   "source": [
    "#game.py\n",
    "def press_attack(player_count, hands, trump, talon, attacker, defender, battlefield, discard, played):\n",
    "    \"\"\"After to_attack() returns False, next attacker has the option to continue the attack\n",
    "        \"\"\"\n",
    "    thrower = next_player(defender, player_count)\n",
    "    keep_attacking = input('Player {} has passed on the attack.\\n'\n",
    "                           ' Player {} would you like to continue? (y/n) '.format(attacker, thrower))\n",
    "    if keep_attacking == 'y':\n",
    "        internal_game_loop(player_count, hands, trump, talon, thrower, defender, battlefield, discard, played)\n",
    "    else:\n",
    "        print(\"PLAYER {} - DISCARDING CARDS - END OF ATTACK\".format(thrower))"
   ]
  },
  {
   "cell_type": "markdown",
   "metadata": {},
   "source": [
    "```internal_game_loop()``` continues until a player declines to attack or defend, or there is no valid card available to a player.\n",
    "\n",
    "Now that we have the functions defined and the structure of the game built, let's put it all together."
   ]
  },
  {
   "cell_type": "markdown",
   "metadata": {},
   "source": [
    "### Running the game\n",
    "After the initial game setup, the program enters the first turn. A counter is created to keep track of the number of players that have zero cards - the game ends when the counter is equal to ```player_count - 1```. The loser is the player with cards still in her hand.\n",
    "\n",
    "The structure of each loop is as follows:\n",
    "1. ```dealer()``` attempts to refill all hands that have less than 6 cards, starting with the attacker. The game cannot end while there are still cards in the talon.\n",
    "2. If the attacking player has cards in their hand, enter the attack/defense ```main_game_loop()```. If not, skip to the next player.\n",
    "3. ```main_game_loop()``` returns the next attacker and defender.\n",
    "4. After the round, reset the battlefield and check for a winner using ```check_win_condition()```.\n",
    "\n",
    "The code is below. The first block starts the game - I have created a test game with a pre-defined deck and only two suits."
   ]
  },
  {
   "cell_type": "code",
   "execution_count": 1,
   "metadata": {
    "collapsed": false
   },
   "outputs": [
    {
     "name": "stdout",
     "output_type": "stream",
     "text": [
      "\n",
      "Welcome to Durak!\n",
      "How many players? (2, 3, or 4) 2\n",
      "\n",
      "Thank you - have a good game!\n",
      "Dealing...\n",
      "---------------------------------\n",
      "\n",
      "Player 2 has the lowest trump - 12H - and will play first.\n",
      "---------------------------------\n",
      "\n"
     ]
    }
   ],
   "source": [
    "# main.py\n",
    "\n",
    "from durak import *\n",
    "from game import *\n",
    "\n",
    "# GLOBAL CONSTANTS\n",
    "HAND_SIZE = 6\n",
    "#  SUITS = ['D', 'C', 'H', 'S']\n",
    "SUITS = ['H', 'S'] # Limited suits for testing. card_gen() has been modified to not shuffle for consistency\n",
    "\n",
    "# Starting a game of Durak\n",
    "print(\"\\nWelcome to Durak!\")\n",
    "player_count = number_of_players()\n",
    "print(\"\\nThank you - have a good game!\")\n",
    "\n",
    "# Create deck, shuffle into talon, create hands, instantiate battlefield\n",
    "talon = card_gen(SUITS)\n",
    "trump = assign_trump(talon)\n",
    "hands = create_hands(player_count)\n",
    "battlefield = {'attack': [], 'defense': []}\n",
    "discard = []\n",
    "\n",
    "# First deal, find out who goes first, assign initial attacker and defender values\n",
    "dealer(hands, talon, HAND_SIZE)\n",
    "attacker, low_card = first_to_play(hands, trump)\n",
    "defender = next_player(attacker, player_count)\n",
    "print(\"Player {} has the lowest trump - {} - and will play first.\".format(attacker, low_card))\n",
    "print(\"---------------------------------\\n\")"
   ]
  },
  {
   "cell_type": "code",
   "execution_count": null,
   "metadata": {
    "collapsed": false
   },
   "outputs": [
    {
     "name": "stdout",
     "output_type": "stream",
     "text": [
      "Dealing...\n",
      "---------------------------------\n",
      "\n",
      "\n",
      "     Player 2 (6 cards)    \n",
      "         |        \n",
      "         |        \n",
      "         |        \n",
      "         |        \n",
      "     Player 1 (6 cards)    \n",
      "\n",
      "Remaining cards: 6\n",
      "Trump card: 6H\n",
      "Total discard: 0\n",
      "---------------------------------\n",
      "\n",
      "Player 2 current hand: 12H  13H  14H  6S  7S  8S  \n",
      "Player 2, what card would you like to attack with? 12h\n",
      "\n",
      "     Player 2 (5 cards)    \n",
      "         |        \n",
      "         |        \n",
      "         |        \n",
      "         |        \n",
      "     Player 1 (6 cards)    \n",
      "\n",
      "Remaining cards: 6\n",
      "Trump card: 6H\n",
      "Total discard: 0\n",
      "---------------------------------\n",
      "\n",
      "Attacks: 12H | \n",
      "Defense: \n",
      "\n",
      "No valid options - taking cards.\n",
      "PLAYER 1 - TAKING CARDS AND SKIPPING YO TURN!!\n",
      "Dealing...\n",
      "---------------------------------\n",
      "\n",
      "\n",
      "     Player 2 (6 cards)    \n",
      "         |        \n",
      "         |        \n",
      "         |        \n",
      "         |        \n",
      "     Player 1 (7 cards)    \n",
      "\n",
      "Remaining cards: 5\n",
      "Trump card: 6H\n",
      "Total discard: 0\n",
      "---------------------------------\n",
      "\n",
      "Player 2 current hand: 11H  13H  14H  6S  7S  8S  \n",
      "Player 2, what card would you like to attack with? 11h\n",
      "\n",
      "     Player 2 (5 cards)    \n",
      "         |        \n",
      "         |        \n",
      "         |        \n",
      "         |        \n",
      "     Player 1 (7 cards)    \n",
      "\n",
      "Remaining cards: 5\n",
      "Trump card: 6H\n",
      "Total discard: 0\n",
      "---------------------------------\n",
      "\n",
      "Attacks: 11H | \n",
      "Defense: \n",
      "\n",
      "Player 1 current hand: 12H  9S  10S  11S  12S  13S  14S  \n",
      "Valid card options: 12H \n",
      "Type 'd' or 'take' to continue: d\n",
      "Player 1, what card would you like to defend with? 12h\n",
      "\n",
      "     Player 2 (5 cards)    \n",
      "         |        \n",
      "         |        \n",
      "         |        \n",
      "         |        \n",
      "     Player 1 (6 cards)    \n",
      "\n",
      "Remaining cards: 5\n",
      "Trump card: 6H\n",
      "Total discard: 0\n",
      "---------------------------------\n",
      "\n",
      "Attacks: 11H | \n",
      "Defense: 12H | \n",
      "\n",
      "No valid options - discarding cards and ending the turn.\n",
      "PLAYER 2 - DISCARDING CARDS - END OF ATTACK\n",
      "Dealing...\n",
      "---------------------------------\n",
      "\n",
      "\n",
      "     Player 2 (6 cards)    \n",
      "         |        \n",
      "         |        \n",
      "         |        \n",
      "         |        \n",
      "     Player 1 (6 cards)    \n",
      "\n",
      "Remaining cards: 4\n",
      "Trump card: 6H\n",
      "Total discard: 2\n",
      "---------------------------------\n",
      "\n",
      "Player 1 current hand: 9S  10S  11S  12S  13S  14S  \n"
     ]
    }
   ],
   "source": [
    "#game.py\n",
    "def check_win_condition(hands):\n",
    "    cards_in_hand = []\n",
    "    counter = 0\n",
    "    for k, v in hands.items():\n",
    "        cards_in_hand.append(len(v))\n",
    "    cards_in_hand.sort()\n",
    "    for i in cards_in_hand:\n",
    "        if i == 0:\n",
    "            counter += 1\n",
    "    return counter\n",
    "\n",
    "#main.py\n",
    "counter = 0\n",
    "while counter < player_count - 1:\n",
    "    # MAIN GAME LOOP\n",
    "    dealer(hands, talon, HAND_SIZE)\n",
    "    if len(hands[attacker]) > 0:\n",
    "        attacker, defender = main_game_loop(player_count, hands, trump, talon, attacker, defender, battlefield, discard)\n",
    "        battlefield = {'attack': [], 'defense': []}\n",
    "        counter = check_win_condition(hands)\n",
    "    else:\n",
    "        attacker = next_player(attacker, player_count)\n",
    "        defender = next_player(attacker, player_count)\n",
    "\n",
    "loser = 0\n",
    "for k, v in hands.items():\n",
    "    if len(v) > 0:\n",
    "        loser = k\n",
    "print(\"Game over! Player {} is the durak and worthy of much derision.\".format(loser))"
   ]
  },
  {
   "cell_type": "markdown",
   "metadata": {},
   "source": [
    "### Game Logic Completed\n",
    "I won't play through an entire game here - you can see from above that the basic attacking and defending functions work as expected, and if you would like to play through the entire game, please check out the completed files from this post on [github](github.com/jalexspringer/durak/secondpost).\n",
    "\n",
    "Of course, you'll have to play against yourself or a friend on the command line! Besides the obvious challenge of not peeking at your opponent's cards, the UI isn't exactly appealing. The next post will implement the GUI (real cards!), and the one after that will focus on the AI."
   ]
  }
 ],
 "metadata": {
  "anaconda-cloud": {},
  "celltoolbar": "Slideshow",
  "kernelspec": {
   "display_name": "Python [conda root]",
   "language": "python",
   "name": "conda-root-py"
  },
  "language_info": {
   "codemirror_mode": {
    "name": "ipython",
    "version": 3
   },
   "file_extension": ".py",
   "mimetype": "text/x-python",
   "name": "python",
   "nbconvert_exporter": "python",
   "pygments_lexer": "ipython3",
   "version": "3.5.2"
  }
 },
 "nbformat": 4,
 "nbformat_minor": 1
}
